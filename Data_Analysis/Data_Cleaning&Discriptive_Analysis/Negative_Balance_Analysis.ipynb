{
 "cells": [
  {
   "cell_type": "markdown",
   "metadata": {},
   "source": [
    "This code makes an exapmle of an address which has a negtive amount"
   ]
  },
  {
   "cell_type": "code",
   "execution_count": 16,
   "metadata": {},
   "outputs": [
    {
     "name": "stdout",
     "output_type": "stream",
     "text": [
      "Transaction ID: b4038ac05b09c9bff9ea5ae9bc554cf023b125218cd132bc832a910c0936fb02 | Input: -631980000.0 | New balance: -631980000.0\n",
      "Transaction ID: 0c6d57dd74e289d097a5a4da36f4c44b184e113eef1b85b20f96efa15de6509b | Output: +631979494.0 | New balance: -506.0\n",
      "Final balance for address 26d651d5fa1491ef2024cece03124cd1f16a8ac7377f0be1f8576d5140f19489: -506.0\n"
     ]
    }
   ],
   "source": [
    "import sqlite3\n",
    "import json\n",
    "\n",
    "# Connect to the SQLite database\n",
    "conn = sqlite3.connect('iotaDB.db')\n",
    "cursor = conn.cursor()\n",
    "\n",
    "# Specific address to analyze\n",
    "specific_address = '26d651d5fa1491ef2024cece03124cd1f16a8ac7377f0be1f8576d5140f19489'\n",
    "\n",
    "# Query the database for transactions involving the specific address\n",
    "query = f\"\"\"\n",
    "SELECT transaction_id, input_addresses_x, input_amounts_x, output_addresses_y, output_amounts_y \n",
    "FROM Transactions \n",
    "WHERE input_addresses_x LIKE '%{specific_address}%' OR output_addresses_y LIKE '%{specific_address}%'\n",
    "\"\"\"\n",
    "cursor.execute(query)\n",
    "rows = cursor.fetchall()\n",
    "\n",
    "# Function to print and update balance based on transaction data\n",
    "def update_and_print_balance(address, amounts, transaction_id, is_input=True):\n",
    "    global address_balance\n",
    "    for addr, amt in zip(address, amounts):\n",
    "        if addr == specific_address:\n",
    "            if is_input:\n",
    "                address_balance -= amt\n",
    "                print(f\"Transaction ID: {transaction_id} | Input: -{amt} | New balance: {address_balance}\")\n",
    "            else:\n",
    "                address_balance += amt\n",
    "                print(f\"Transaction ID: {transaction_id} | Output: +{amt} | New balance: {address_balance}\")\n",
    "\n",
    "# Initialize balance for the address\n",
    "address_balance = 0\n",
    "\n",
    "# Iterate over each row to parse JSON and accumulate amounts for the specific address\n",
    "for transaction_id, input_addresses_x, input_amounts_x, output_addresses_y, output_amounts_y in rows:\n",
    "    # Parse the JSON data\n",
    "    input_addresses = json.loads(input_addresses_x)\n",
    "    input_amounts = json.loads(input_amounts_x)\n",
    "    output_addresses = json.loads(output_addresses_y)\n",
    "    output_amounts = json.loads(output_amounts_y)\n",
    "\n",
    "    # Check and update balances for input and output addresses, and print transaction details including the transaction ID\n",
    "    update_and_print_balance(input_addresses, input_amounts, transaction_id, is_input=True)\n",
    "    update_and_print_balance(output_addresses, output_amounts, transaction_id, is_input=False)\n",
    "\n",
    "\n",
    "conn.close()\n",
    "\n",
    "# Print the final balance for the specific address\n",
    "print(f'Final balance for address {specific_address}: {address_balance}')\n"
   ]
  }
 ],
 "metadata": {
  "kernelspec": {
   "display_name": "Python 3",
   "language": "python",
   "name": "python3"
  },
  "language_info": {
   "codemirror_mode": {
    "name": "ipython",
    "version": 3
   },
   "file_extension": ".py",
   "mimetype": "text/x-python",
   "name": "python",
   "nbconvert_exporter": "python",
   "pygments_lexer": "ipython3",
   "version": "3.12.3"
  }
 },
 "nbformat": 4,
 "nbformat_minor": 2
}
