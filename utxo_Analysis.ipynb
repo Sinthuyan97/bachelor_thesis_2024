{
 "cells": [
  {
   "cell_type": "markdown",
   "metadata": {},
   "source": [
    "<h3>Step 1: Importing neccacary Libararies"
   ]
  },
  {
   "cell_type": "code",
   "execution_count": 1,
   "metadata": {},
   "outputs": [],
   "source": [
    "import pandas as pd\n",
    "import sqlite3\n",
    "import matplotlib.pyplot as plt\n",
    "import seaborn as sns\n",
    "import ast\n",
    "import os\n",
    "conn = sqlite3.connect('iotaDB.db')\n",
    "import numpy as np"
   ]
  },
  {
   "cell_type": "markdown",
   "metadata": {},
   "source": [
    "<h3> Step1: Read the CSV"
   ]
  },
  {
   "cell_type": "code",
   "execution_count": 2,
   "metadata": {},
   "outputs": [
    {
     "name": "stdout",
     "output_type": "stream",
     "text": [
      "Index(['transaction_id', 'block_index', 'input_addresses_x', 'input_amounts_x',\n",
      "       'output_addresses_y', 'output_amounts_y', 'timestamp'],\n",
      "      dtype='object')\n"
     ]
    }
   ],
   "source": [
    "# Load data\n",
    "df = pd.read_csv('iota_tx_2024/iota_tx/IOTA_1year_tx_data2.csv', header=0)\n",
    "print(df.columns)  # to check column names"
   ]
  },
  {
   "cell_type": "code",
   "execution_count": 3,
   "metadata": {},
   "outputs": [
    {
     "name": "stdout",
     "output_type": "stream",
     "text": [
      "<class 'pandas.core.frame.DataFrame'>\n",
      "RangeIndex: 942886 entries, 0 to 942885\n",
      "Data columns (total 7 columns):\n",
      " #   Column              Non-Null Count   Dtype  \n",
      "---  ------              --------------   -----  \n",
      " 0   transaction_id      942886 non-null  object \n",
      " 1   block_index         942886 non-null  float64\n",
      " 2   input_addresses_x   942886 non-null  object \n",
      " 3   input_amounts_x     942886 non-null  object \n",
      " 4   output_addresses_y  942886 non-null  object \n",
      " 5   output_amounts_y    942886 non-null  object \n",
      " 6   timestamp           942886 non-null  object \n",
      "dtypes: float64(1), object(6)\n",
      "memory usage: 50.4+ MB\n"
     ]
    }
   ],
   "source": [
    "df.info()"
   ]
  },
  {
   "cell_type": "markdown",
   "metadata": {},
   "source": [
    " <h3>Step 2: Cleaning the Dataset</h3>\n",
    "\n"
   ]
  },
  {
   "cell_type": "markdown",
   "metadata": {},
   "source": [
    "<h4>2.1 Identifying missing values, deleting the rows, saving in a new directory\n"
   ]
  },
  {
   "cell_type": "markdown",
   "metadata": {},
   "source": [
    "<h5> 2.1.1 Identifying \"not found\" values in the dataset"
   ]
  },
  {
   "cell_type": "code",
   "execution_count": 4,
   "metadata": {},
   "outputs": [
    {
     "name": "stdout",
     "output_type": "stream",
     "text": [
      "Total rows with 'Not found': 340\n"
     ]
    }
   ],
   "source": [
    "def notfound_values(df):\n",
    "    # Convert DataFrame to numpy array for fast operation\n",
    "    data_array = df.values\n",
    "    \n",
    "    # Vectorized comparison over the numpy array\n",
    "    is_not_found = (data_array == 'Not found')\n",
    "    \n",
    "    # Use numpy to check each row\n",
    "    contains_not_found = np.any(is_not_found, axis=1)\n",
    "    \n",
    "    # Count the True values for rows containing 'Not found'\n",
    "    not_found_count = np.sum(contains_not_found)\n",
    "    \n",
    "    print(f\"Total rows with 'Not found': {not_found_count}\")\n",
    "    return not_found_count\n",
    "\n",
    "\n",
    "notfound_count = notfound_values(df)"
   ]
  },
  {
   "cell_type": "markdown",
   "metadata": {},
   "source": [
    "<h5> 2.1.2 Identifying \"missing\" values in the dataset"
   ]
  },
  {
   "cell_type": "code",
   "execution_count": 5,
   "metadata": {},
   "outputs": [
    {
     "name": "stdout",
     "output_type": "stream",
     "text": [
      "Missing values in each column:\n",
      "transaction_id        0\n",
      "block_index           0\n",
      "input_addresses_x     0\n",
      "input_amounts_x       0\n",
      "output_addresses_y    0\n",
      "output_amounts_y      0\n",
      "timestamp             0\n",
      "dtype: int64\n"
     ]
    }
   ],
   "source": [
    "def missing_values (df):\n",
    "  missing_values = df.isna().sum()\n",
    "  print(\"Missing values in each column:\")\n",
    "  print(missing_values)\n",
    "  return missing_values\n",
    "\n",
    "missing_values_count = missing_values(df)"
   ]
  },
  {
   "cell_type": "markdown",
   "metadata": {},
   "source": [
    "<h5> 2.1.4 Cleaning the dataset"
   ]
  },
  {
   "cell_type": "code",
   "execution_count": 6,
   "metadata": {},
   "outputs": [
    {
     "name": "stdout",
     "output_type": "stream",
     "text": [
      "Total rows deleted: 340\n"
     ]
    }
   ],
   "source": [
    "\n",
    "# Check for 'Not Found' across the entire DataFrame\n",
    "mask = (df != 'Not found').all(axis=1)\n",
    "\n",
    "# Count rows before filtering\n",
    "initial_row_count = len(df)\n",
    "\n",
    "# Apply the mask to filter out rows with 'Not Found'\n",
    "cleaned_df = df[mask]\n",
    "\n",
    "# Count rows after filtering\n",
    "final_row_count = len(cleaned_df)\n",
    "rows_deleted = initial_row_count - final_row_count\n",
    "\n",
    "# Output the number of rows deleted\n",
    "print(f\"Total rows deleted: {rows_deleted}\")\n",
    "\n",
    "\n"
   ]
  },
  {
   "cell_type": "code",
   "execution_count": 7,
   "metadata": {},
   "outputs": [],
   "source": [
    "# Drop all rows that have any missing values\n",
    "df = df.dropna()"
   ]
  },
  {
   "cell_type": "code",
   "execution_count": 8,
   "metadata": {},
   "outputs": [],
   "source": [
    "df = cleaned_df"
   ]
  },
  {
   "cell_type": "markdown",
   "metadata": {},
   "source": [
    "<h4> 2.2 Adjusting the datatypes "
   ]
  },
  {
   "cell_type": "code",
   "execution_count": 9,
   "metadata": {},
   "outputs": [],
   "source": [
    "\n",
    "  # Convert timestamp to datetime\n",
    "df['timestamp'] = pd.to_datetime(df['timestamp'], format='%Y-%m-%d %H:%M:%S', errors='coerce')"
   ]
  },
  {
   "cell_type": "code",
   "execution_count": 10,
   "metadata": {},
   "outputs": [
    {
     "data": {
      "text/html": [
       "<div>\n",
       "<style scoped>\n",
       "    .dataframe tbody tr th:only-of-type {\n",
       "        vertical-align: middle;\n",
       "    }\n",
       "\n",
       "    .dataframe tbody tr th {\n",
       "        vertical-align: top;\n",
       "    }\n",
       "\n",
       "    .dataframe thead th {\n",
       "        text-align: right;\n",
       "    }\n",
       "</style>\n",
       "<table border=\"1\" class=\"dataframe\">\n",
       "  <thead>\n",
       "    <tr style=\"text-align: right;\">\n",
       "      <th></th>\n",
       "      <th>transaction_id</th>\n",
       "      <th>block_index</th>\n",
       "      <th>input_addresses_x</th>\n",
       "      <th>input_amounts_x</th>\n",
       "      <th>output_addresses_y</th>\n",
       "      <th>output_amounts_y</th>\n",
       "      <th>timestamp</th>\n",
       "    </tr>\n",
       "  </thead>\n",
       "  <tbody>\n",
       "    <tr>\n",
       "      <th>0</th>\n",
       "      <td>65f4952557b7b021e65047c0666040ca81f0b56071b61c...</td>\n",
       "      <td>3033226.0</td>\n",
       "      <td>['704e8eccc32d7b314cc0cccbc29eaae59aa73c088016...</td>\n",
       "      <td>[500000000.0]</td>\n",
       "      <td>['704e8eccc32d7b314cc0cccbc29eaae59aa73c088016...</td>\n",
       "      <td>[25000000.0, 475000000.0]</td>\n",
       "      <td>2022-04-15 13:02:55</td>\n",
       "    </tr>\n",
       "    <tr>\n",
       "      <th>1</th>\n",
       "      <td>3fc9f4cfe97c60fe5ebd6b22d29c44874cac900eab4132...</td>\n",
       "      <td>3095432.0</td>\n",
       "      <td>['ef2e82cbdfb4cd7cff8c124deebe21774c860418b143...</td>\n",
       "      <td>[60000000.0, 76000000.0]</td>\n",
       "      <td>['e319d445b5401cc40a3f86d739f1cf4faa3892891d22...</td>\n",
       "      <td>[92000000.0, 44000000.0]</td>\n",
       "      <td>2022-04-22 17:50:35</td>\n",
       "    </tr>\n",
       "    <tr>\n",
       "      <th>2</th>\n",
       "      <td>db839f8d2511db74fa7f0bb8a630efb8c9f6c466aed5cc...</td>\n",
       "      <td>2646516.0</td>\n",
       "      <td>['8fe0e01639d3ee5ffdc9291ec2f7ba9b0500cee049ba...</td>\n",
       "      <td>[200000000.0]</td>\n",
       "      <td>['22a98444cebb7b6938f5bb44bf3df90fcd2af3a7d2c7...</td>\n",
       "      <td>[190000000.0, 10000000.0]</td>\n",
       "      <td>2022-03-01 18:25:43</td>\n",
       "    </tr>\n",
       "    <tr>\n",
       "      <th>3</th>\n",
       "      <td>a1d1953a998f11e0b2cf64e2f029b07d7813d1042bf9f3...</td>\n",
       "      <td>3033402.0</td>\n",
       "      <td>['8f26b244ee1228e0e9002bbde892599cc4e322da322e...</td>\n",
       "      <td>[25000000.0]</td>\n",
       "      <td>['dea80a1c63c56f21beb18bae761b80d33fc0ad08ada0...</td>\n",
       "      <td>[25000000.0]</td>\n",
       "      <td>2022-04-15 13:32:15</td>\n",
       "    </tr>\n",
       "    <tr>\n",
       "      <th>4</th>\n",
       "      <td>53b37aceaf50d0a7c73847cf7d5998d8068ffd19dfac8b...</td>\n",
       "      <td>3070044.0</td>\n",
       "      <td>['8ce2430b39c7a9e77e10ecd100da5fbf4549dfc55201...</td>\n",
       "      <td>[494500000.0]</td>\n",
       "      <td>['8ce2430b39c7a9e77e10ecd100da5fbf4549dfc55201...</td>\n",
       "      <td>[494500000.0]</td>\n",
       "      <td>2022-04-19 19:19:15</td>\n",
       "    </tr>\n",
       "  </tbody>\n",
       "</table>\n",
       "</div>"
      ],
      "text/plain": [
       "                                      transaction_id  block_index  \\\n",
       "0  65f4952557b7b021e65047c0666040ca81f0b56071b61c...    3033226.0   \n",
       "1  3fc9f4cfe97c60fe5ebd6b22d29c44874cac900eab4132...    3095432.0   \n",
       "2  db839f8d2511db74fa7f0bb8a630efb8c9f6c466aed5cc...    2646516.0   \n",
       "3  a1d1953a998f11e0b2cf64e2f029b07d7813d1042bf9f3...    3033402.0   \n",
       "4  53b37aceaf50d0a7c73847cf7d5998d8068ffd19dfac8b...    3070044.0   \n",
       "\n",
       "                                   input_addresses_x  \\\n",
       "0  ['704e8eccc32d7b314cc0cccbc29eaae59aa73c088016...   \n",
       "1  ['ef2e82cbdfb4cd7cff8c124deebe21774c860418b143...   \n",
       "2  ['8fe0e01639d3ee5ffdc9291ec2f7ba9b0500cee049ba...   \n",
       "3  ['8f26b244ee1228e0e9002bbde892599cc4e322da322e...   \n",
       "4  ['8ce2430b39c7a9e77e10ecd100da5fbf4549dfc55201...   \n",
       "\n",
       "            input_amounts_x  \\\n",
       "0             [500000000.0]   \n",
       "1  [60000000.0, 76000000.0]   \n",
       "2             [200000000.0]   \n",
       "3              [25000000.0]   \n",
       "4             [494500000.0]   \n",
       "\n",
       "                                  output_addresses_y  \\\n",
       "0  ['704e8eccc32d7b314cc0cccbc29eaae59aa73c088016...   \n",
       "1  ['e319d445b5401cc40a3f86d739f1cf4faa3892891d22...   \n",
       "2  ['22a98444cebb7b6938f5bb44bf3df90fcd2af3a7d2c7...   \n",
       "3  ['dea80a1c63c56f21beb18bae761b80d33fc0ad08ada0...   \n",
       "4  ['8ce2430b39c7a9e77e10ecd100da5fbf4549dfc55201...   \n",
       "\n",
       "            output_amounts_y           timestamp  \n",
       "0  [25000000.0, 475000000.0] 2022-04-15 13:02:55  \n",
       "1   [92000000.0, 44000000.0] 2022-04-22 17:50:35  \n",
       "2  [190000000.0, 10000000.0] 2022-03-01 18:25:43  \n",
       "3               [25000000.0] 2022-04-15 13:32:15  \n",
       "4              [494500000.0] 2022-04-19 19:19:15  "
      ]
     },
     "execution_count": 10,
     "metadata": {},
     "output_type": "execute_result"
    }
   ],
   "source": [
    "#Display the first 4 rows in the database\n",
    "df.head()"
   ]
  },
  {
   "cell_type": "code",
   "execution_count": 11,
   "metadata": {},
   "outputs": [
    {
     "name": "stdout",
     "output_type": "stream",
     "text": [
      "<class 'pandas._libs.tslibs.timestamps.Timestamp'>\n",
      "<class 'str'>\n",
      "<class 'str'>\n",
      "<class 'str'>\n",
      "<class 'str'>\n"
     ]
    },
    {
     "data": {
      "text/plain": [
       "transaction_id        3fc9f4cfe97c60fe5ebd6b22d29c44874cac900eab4132...\n",
       "block_index                                                   3095432.0\n",
       "input_addresses_x     ['ef2e82cbdfb4cd7cff8c124deebe21774c860418b143...\n",
       "input_amounts_x                                [60000000.0, 76000000.0]\n",
       "output_addresses_y    ['e319d445b5401cc40a3f86d739f1cf4faa3892891d22...\n",
       "output_amounts_y                               [92000000.0, 44000000.0]\n",
       "timestamp                                           2022-04-22 17:50:35\n",
       "Name: 1, dtype: object"
      ]
     },
     "execution_count": 11,
     "metadata": {},
     "output_type": "execute_result"
    }
   ],
   "source": [
    "# Makeing sure about the right datatype\n",
    "print(type(df['timestamp'].iloc[0]))\n",
    "print(type(df['input_amounts_x'].iloc[0]))\n",
    "print(type(df['input_addresses_x'].iloc[0]))\n",
    "print(type(df['output_addresses_y'].iloc[0]))\n",
    "print(type(df['output_amounts_y'].iloc[0]))\n",
    "df.iloc[1]"
   ]
  },
  {
   "cell_type": "markdown",
   "metadata": {},
   "source": [
    "<h5> 2.1.3.1 Handling the datatype of input_adresses_x and output_addresses_y // Changing all the adresses with more than one input from strings to list"
   ]
  },
  {
   "cell_type": "code",
   "execution_count": 12,
   "metadata": {},
   "outputs": [],
   "source": [
    "def parse_string_to_list(s):\n",
    "    try:\n",
    "        if s is None or isinstance(s, list):\n",
    "            return []  # Handle None or already processed lists\n",
    "        parsed_list = ast.literal_eval(s)\n",
    "\n",
    "        if s is None or s == \"Not found\":\n",
    "            print(f\"Warning: Skipping due to None or Not found input at row : {s}\")\n",
    "            return []\n",
    "        return parsed_list\n",
    "    except (ValueError, SyntaxError, TypeError) as e:\n",
    "        print(f\"Error parsing or converting {s}: {e}\")\n",
    "        return []"
   ]
  },
  {
   "cell_type": "code",
   "execution_count": 13,
   "metadata": {},
   "outputs": [],
   "source": [
    "df['input_addresses_x'] = df['input_addresses_x'].apply(parse_string_to_list)\n"
   ]
  },
  {
   "cell_type": "code",
   "execution_count": 14,
   "metadata": {},
   "outputs": [],
   "source": [
    "df['output_addresses_y'] = df['output_addresses_y'].apply(parse_string_to_list)"
   ]
  },
  {
   "cell_type": "code",
   "execution_count": 15,
   "metadata": {},
   "outputs": [
    {
     "name": "stdout",
     "output_type": "stream",
     "text": [
      "<class 'list'>\n",
      "['ef2e82cbdfb4cd7cff8c124deebe21774c860418b143ebbabe99e085833071c3', '1cfadd558641a3d501a4ea05e9ccc043d19180ac34ab197fff0b6671231c14ea']\n",
      "<class 'list'>\n",
      "['e319d445b5401cc40a3f86d739f1cf4faa3892891d228e8fd3f01598ff63f010', 'e90b9fc90d2429696b68da47c439f4853ffc4750580394b34273bb9c5510e65f']\n"
     ]
    }
   ],
   "source": [
    "print(type(df['input_addresses_x'].iloc[2]))\n",
    "print(df['input_addresses_x'].iloc[1])\n",
    "\n",
    "print(type(df['output_addresses_y'].iloc[2]))\n",
    "print(df['output_addresses_y'].iloc[1])"
   ]
  },
  {
   "cell_type": "markdown",
   "metadata": {},
   "source": [
    "<h5> 2.1.3.1 Handling the datatype of input_amount_x and output_amount_y"
   ]
  },
  {
   "cell_type": "code",
   "execution_count": 16,
   "metadata": {},
   "outputs": [],
   "source": [
    "def parse_float_list(s):\n",
    "    try:\n",
    "        # Check for 'None' or the specific 'Not found' string\n",
    "        if s is None or s == \"Not found\":\n",
    "            print(f\"Warning: Skipping due to None or Not found input at row : {s}\")\n",
    "            return []\n",
    "        \n",
    "        # Process the list if 's' is already a list\n",
    "        if isinstance(s, list):\n",
    "            return [float(item) for item in s]  # Convert each item to float\n",
    "        \n",
    "        # If 's' is a string, attempt to parse it as a literal list\n",
    "        if isinstance(s, str):\n",
    "            parsed_list = ast.literal_eval(s)\n",
    "            return [float(item) for item in parsed_list]\n",
    "        \n",
    "        # Log any unexpected data types\n",
    "        print(f\"Unexpected data type : {type(s)} with value {s}\")\n",
    "        return []\n",
    "\n",
    "    except (ValueError, SyntaxError, TypeError) as e:\n",
    "        print(f\"Error parsing or converting  {s}. Error: {e}\")\n",
    "        return []\n"
   ]
  },
  {
   "cell_type": "code",
   "execution_count": 17,
   "metadata": {},
   "outputs": [],
   "source": [
    "df['output_amounts_y'] = df['output_amounts_y'].apply(parse_float_list)\n",
    "df['input_amounts_x'] = df['input_amounts_x'].apply(parse_float_list)"
   ]
  },
  {
   "cell_type": "code",
   "execution_count": 18,
   "metadata": {},
   "outputs": [
    {
     "name": "stdout",
     "output_type": "stream",
     "text": [
      "<class 'list'>\n",
      "<class 'float'>\n",
      "<class 'list'>\n",
      "<class 'list'>\n",
      "<class 'float'>\n",
      "<class 'list'>\n"
     ]
    }
   ],
   "source": [
    "# Makeing sure about the right datatype\n",
    "print(type(df['input_amounts_x'].iloc[0]))\n",
    "print(type(df['input_amounts_x'].iloc[0][0]))\n",
    "print(type(df['input_addresses_x'].iloc[0]))\n",
    "\n",
    "print(type(df['output_amounts_y'].iloc[0]))\n",
    "print(type(df['output_amounts_y'].iloc[0][0]))\n",
    "print(type(df['output_addresses_y'].iloc[0]))\n"
   ]
  },
  {
   "cell_type": "code",
   "execution_count": 20,
   "metadata": {},
   "outputs": [
    {
     "name": "stdout",
     "output_type": "stream",
     "text": [
      "<class 'list'>\n",
      "['ef2e82cbdfb4cd7cff8c124deebe21774c860418b143ebbabe99e085833071c3', '1cfadd558641a3d501a4ea05e9ccc043d19180ac34ab197fff0b6671231c14ea']\n",
      "<class 'list'>\n",
      "[60000000.0, 76000000.0]\n",
      "<class 'list'>\n",
      "['e319d445b5401cc40a3f86d739f1cf4faa3892891d228e8fd3f01598ff63f010', 'e90b9fc90d2429696b68da47c439f4853ffc4750580394b34273bb9c5510e65f']\n",
      "<class 'list'>\n",
      "[92000000.0, 44000000.0]\n",
      "<class 'float'>\n",
      "92000000.0\n"
     ]
    }
   ],
   "source": [
    "# Makeing sure about the right datatype\n",
    "\n",
    "print(type(df['input_addresses_x'].iloc[1]))\n",
    "print(df['input_addresses_x'].iloc[1])\n",
    "\n",
    "print(type(df['input_amounts_x'].iloc[1]))\n",
    "print(df['input_amounts_x'].iloc[1])\n",
    "\n",
    "\n",
    "\n",
    "print(type(df['output_addresses_y'].iloc[1]))\n",
    "print(df['output_addresses_y'].iloc[1])\n",
    "\n",
    "print(type(df['output_amounts_y'].iloc[1]))\n",
    "print(df['output_amounts_y'].iloc[1])\n",
    "\n",
    "print(type(df['output_amounts_y'].iloc[1][0]))\n",
    "print(df['output_amounts_y'].iloc[1][0])\n",
    "\n",
    "\n"
   ]
  },
  {
   "cell_type": "markdown",
   "metadata": {},
   "source": [
    "<h3>Step 4: Connecting to the database and inserting the cleaned and adjusted Dataframe</h3>"
   ]
  },
  {
   "cell_type": "markdown",
   "metadata": {},
   "source": [
    "<h4> 4.1 Saving the list in json format to store in the Database (!List can not be stored in the database)"
   ]
  },
  {
   "cell_type": "code",
   "execution_count": 1,
   "metadata": {},
   "outputs": [
    {
     "ename": "NameError",
     "evalue": "name 'df' is not defined",
     "output_type": "error",
     "traceback": [
      "\u001b[1;31m---------------------------------------------------------------------------\u001b[0m",
      "\u001b[1;31mNameError\u001b[0m                                 Traceback (most recent call last)",
      "Cell \u001b[1;32mIn[1], line 3\u001b[0m\n\u001b[0;32m      1\u001b[0m \u001b[38;5;28;01mimport\u001b[39;00m \u001b[38;5;21;01mjson\u001b[39;00m\n\u001b[1;32m----> 3\u001b[0m \u001b[38;5;28;01mfor\u001b[39;00m col \u001b[38;5;129;01min\u001b[39;00m \u001b[43mdf\u001b[49m\u001b[38;5;241m.\u001b[39mcolumns:\n\u001b[0;32m      4\u001b[0m   \u001b[38;5;28;01mif\u001b[39;00m df[col]\u001b[38;5;241m.\u001b[39mapply(\u001b[38;5;28;01mlambda\u001b[39;00m x: \u001b[38;5;28misinstance\u001b[39m (x,\u001b[38;5;28mlist\u001b[39m))\u001b[38;5;241m.\u001b[39many():\n\u001b[0;32m      5\u001b[0m     df[col] \u001b[38;5;241m=\u001b[39m df[col]\u001b[38;5;241m.\u001b[39mapply(json\u001b[38;5;241m.\u001b[39mdumps)\n",
      "\u001b[1;31mNameError\u001b[0m: name 'df' is not defined"
     ]
    }
   ],
   "source": [
    "import json\n",
    "\n",
    "for col in df.columns:\n",
    "  if df[col].apply(lambda x: isinstance (x,list)).any():\n",
    "    df[col] = df[col].apply(json.dumps)\n",
    "\n",
    "print(\"DataFrame Structure:\")\n",
    "print(df.dtypes)"
   ]
  },
  {
   "cell_type": "markdown",
   "metadata": {},
   "source": [
    "<h4> 4.2 Creating the Database and createing the Table for the Datasets"
   ]
  },
  {
   "cell_type": "code",
   "execution_count": 1,
   "metadata": {},
   "outputs": [
    {
     "ename": "NameError",
     "evalue": "name 'sqlite3' is not defined",
     "output_type": "error",
     "traceback": [
      "\u001b[1;31m---------------------------------------------------------------------------\u001b[0m",
      "\u001b[1;31mNameError\u001b[0m                                 Traceback (most recent call last)",
      "Cell \u001b[1;32mIn[1], line 2\u001b[0m\n\u001b[0;32m      1\u001b[0m \u001b[38;5;66;03m# Create a table with corrected column names and data types\u001b[39;00m\n\u001b[1;32m----> 2\u001b[0m conn \u001b[38;5;241m=\u001b[39m \u001b[43msqlite3\u001b[49m\u001b[38;5;241m.\u001b[39mconnect(\u001b[38;5;124m'\u001b[39m\u001b[38;5;124miotaDB.db\u001b[39m\u001b[38;5;124m'\u001b[39m)\n\u001b[0;32m      3\u001b[0m c \u001b[38;5;241m=\u001b[39m conn\u001b[38;5;241m.\u001b[39mcursor()\n\u001b[0;32m      5\u001b[0m c\u001b[38;5;241m.\u001b[39mexecute(\u001b[38;5;124m'''\u001b[39m\n\u001b[0;32m      6\u001b[0m \u001b[38;5;124mCREATE TABLE Transactions (\u001b[39m\n\u001b[0;32m      7\u001b[0m \u001b[38;5;124m    transaction_id ,\u001b[39m\n\u001b[1;32m   (...)\u001b[0m\n\u001b[0;32m     14\u001b[0m \u001b[38;5;124m)\u001b[39m\n\u001b[0;32m     15\u001b[0m \u001b[38;5;124m'''\u001b[39m)\n",
      "\u001b[1;31mNameError\u001b[0m: name 'sqlite3' is not defined"
     ]
    }
   ],
   "source": [
    "# Create a table with corrected column names and data types\n",
    "conn = sqlite3.connect('iotaDB.db')\n",
    "c = conn.cursor()\n",
    "\n",
    "c.execute('''\n",
    "CREATE TABLE Transactions (\n",
    "    transaction_id ,\n",
    "    block_index ,\n",
    "    input_addresses_x ,\n",
    "    input_amounts_x ,\n",
    "    output_addresses_y ,\n",
    "    output_amounts_y ,\n",
    "    timestamp \n",
    ")\n",
    "''')\n",
    "\n",
    "# Use a default single insert statement per row\n",
    "df.to_sql('Transactions', conn, if_exists='replace', index=False, method=None)\n",
    "\n",
    "\n",
    "# Commit changes and close the connection\n",
    "conn.commit()\n",
    "conn.close()\n",
    "\n",
    "\n",
    "\n"
   ]
  },
  {
   "cell_type": "markdown",
   "metadata": {},
   "source": [
    "Working with JSON strings in the Data"
   ]
  },
  {
   "cell_type": "markdown",
   "metadata": {},
   "source": [
    "Verification of List in the Database"
   ]
  },
  {
   "cell_type": "code",
   "execution_count": 25,
   "metadata": {},
   "outputs": [
    {
     "name": "stdout",
     "output_type": "stream",
     "text": [
      "Record 1 - Input Addresses: ['704e8eccc32d7b314cc0cccbc29eaae59aa73c0880161d52b9b87c13d4703896'] (type: <class 'list'>)\n",
      "Record 1 - Output Addresses: ['704e8eccc32d7b314cc0cccbc29eaae59aa73c0880161d52b9b87c13d4703896', 'dea80a1c63c56f21beb18bae761b80d33fc0ad08ada018eb982f1dd313109aed'] (type: <class 'list'>)\n",
      "Record 1 - Input Amounts: [500000000.0] (type: <class 'list'>)\n",
      "Record 1 - Output Amounts: [25000000.0, 475000000.0] (type: <class 'list'>)\n",
      "Record 2 - Input Addresses: ['ef2e82cbdfb4cd7cff8c124deebe21774c860418b143ebbabe99e085833071c3', '1cfadd558641a3d501a4ea05e9ccc043d19180ac34ab197fff0b6671231c14ea'] (type: <class 'list'>)\n",
      "Record 2 - Output Addresses: ['e319d445b5401cc40a3f86d739f1cf4faa3892891d228e8fd3f01598ff63f010', 'e90b9fc90d2429696b68da47c439f4853ffc4750580394b34273bb9c5510e65f'] (type: <class 'list'>)\n",
      "Record 2 - Input Amounts: [60000000.0, 76000000.0] (type: <class 'list'>)\n",
      "Record 2 - Output Amounts: [92000000.0, 44000000.0] (type: <class 'list'>)\n",
      "Record 3 - Input Addresses: ['8fe0e01639d3ee5ffdc9291ec2f7ba9b0500cee049ba109e7d4cc09604aa594e'] (type: <class 'list'>)\n",
      "Record 3 - Output Addresses: ['22a98444cebb7b6938f5bb44bf3df90fcd2af3a7d2c7c55347a251a228c85e46', '8fe0e01639d3ee5ffdc9291ec2f7ba9b0500cee049ba109e7d4cc09604aa594e'] (type: <class 'list'>)\n",
      "Record 3 - Input Amounts: [200000000.0] (type: <class 'list'>)\n",
      "Record 3 - Output Amounts: [190000000.0, 10000000.0] (type: <class 'list'>)\n",
      "Record 4 - Input Addresses: ['8f26b244ee1228e0e9002bbde892599cc4e322da322e390b4f459137d8d9f7f6'] (type: <class 'list'>)\n",
      "Record 4 - Output Addresses: ['dea80a1c63c56f21beb18bae761b80d33fc0ad08ada018eb982f1dd313109aed'] (type: <class 'list'>)\n",
      "Record 4 - Input Amounts: [25000000.0] (type: <class 'list'>)\n",
      "Record 4 - Output Amounts: [25000000.0] (type: <class 'list'>)\n",
      "Record 5 - Input Addresses: ['8ce2430b39c7a9e77e10ecd100da5fbf4549dfc55201df36f8b58b29188ef27c'] (type: <class 'list'>)\n",
      "Record 5 - Output Addresses: ['8ce2430b39c7a9e77e10ecd100da5fbf4549dfc55201df36f8b58b29188ef27c'] (type: <class 'list'>)\n",
      "Record 5 - Input Amounts: [494500000.0] (type: <class 'list'>)\n",
      "Record 5 - Output Amounts: [494500000.0] (type: <class 'list'>)\n",
      "Record 6 - Input Addresses: ['ac9666c53ddb04a1251ef7d319ec9743b438e36b9f7bcfed7f442a534e36de9b'] (type: <class 'list'>)\n",
      "Record 6 - Output Addresses: ['050b6837b3837de31dc228aed348062cef78fcfc0d90f3c817f3f437035fa971', '9b9d0c10ea569f2e24b0452c6fc5f7d60dae87f3ce605c4ef9bdf3791144c0ae'] (type: <class 'list'>)\n",
      "Record 6 - Input Amounts: [29891752444.0] (type: <class 'list'>)\n",
      "Record 6 - Output Amounts: [1000000.0, 29890752444.0] (type: <class 'list'>)\n",
      "Record 7 - Input Addresses: ['f42006221077e333c70770a10ca9a0b7bf60d2bc89ca80054bc91f0031cb4771'] (type: <class 'list'>)\n",
      "Record 7 - Output Addresses: ['4146eca7f5bdb2436d0ae3c79c4c798543da4c62df65d7eb5196d8afca192b84', '7d357d0655fabf7eedad8eedcc782d5edaa9673518ef61d6df2c3eed498d24ee'] (type: <class 'list'>)\n",
      "Record 7 - Input Amounts: [22994863356.0] (type: <class 'list'>)\n",
      "Record 7 - Output Amounts: [22094863356.0, 900000000.0] (type: <class 'list'>)\n",
      "Record 8 - Input Addresses: ['b1cd46b98ec8501da1a85aa9ce9c9a52e17e672b6b18112a04174612451a7359'] (type: <class 'list'>)\n",
      "Record 8 - Output Addresses: ['9fc47711f33a65159a48166c2771f64b437f71900e25462f0e95f33370285348'] (type: <class 'list'>)\n",
      "Record 8 - Input Amounts: [1000000.0] (type: <class 'list'>)\n",
      "Record 8 - Output Amounts: [1000000.0] (type: <class 'list'>)\n",
      "Record 9 - Input Addresses: ['dafcc4f6e813771d995ab61d4afa8777d18f843892229741fa4e2b4415404610'] (type: <class 'list'>)\n",
      "Record 9 - Output Addresses: ['dafcc4f6e813771d995ab61d4afa8777d18f843892229741fa4e2b4415404610'] (type: <class 'list'>)\n",
      "Record 9 - Input Amounts: [4501456962.0] (type: <class 'list'>)\n",
      "Record 9 - Output Amounts: [4501456962.0] (type: <class 'list'>)\n",
      "Record 10 - Input Addresses: ['cda34751e8d10b17d2bd4768104b791e67c759c4a55c509f820c93d4a475f569'] (type: <class 'list'>)\n",
      "Record 10 - Output Addresses: ['4132b0005724e0bd2e23410afa5ae66c8ccc34c73a2448fe545b4ca6070e47c2', 'ed55d89e997aee3df46be5eb9853d53c3e0193e1c95b585e98b369734e525b06'] (type: <class 'list'>)\n",
      "Record 10 - Input Amounts: [0.0] (type: <class 'list'>)\n",
      "Record 10 - Output Amounts: [2000000.0, 586961000.0] (type: <class 'list'>)\n"
     ]
    }
   ],
   "source": [
    "import json\n",
    "import sqlite3\n",
    "\n",
    "# Example database fetch code\n",
    "conn = sqlite3.connect('iotaDB.db')\n",
    "c = conn.cursor()\n",
    "\n",
    "# Query to fetch serialized data\n",
    "c.execute(\"\"\"\n",
    "SELECT input_addresses_x, output_addresses_y, input_amounts_x, output_amounts_y \n",
    "FROM Transactions \n",
    "LIMIT 10\n",
    "\"\"\")\n",
    "rows = c.fetchall()\n",
    "\n",
    "# Deserialize the JSON string back into Python lists for all four columns\n",
    "addresses_and_amounts = [{\n",
    "    'input_addresses': json.loads(row[0]) if row[0] else None,\n",
    "    'output_addresses': json.loads(row[1]) if row[1] else None,\n",
    "    'input_amounts': json.loads(row[2]) if row[2] else None,\n",
    "    'output_amounts': json.loads(row[3]) if row[3] else None\n",
    "} for row in rows]\n",
    "\n",
    "# Output the deserialized data along with types\n",
    "for idx, item in enumerate(addresses_and_amounts, start=1):\n",
    "    print(f\"Record {idx} - Input Addresses: {item['input_addresses']} (type: {type(item['input_addresses'])})\")\n",
    "    print(f\"Record {idx} - Output Addresses: {item['output_addresses']} (type: {type(item['output_addresses'])})\")\n",
    "    print(f\"Record {idx} - Input Amounts: {item['input_amounts']} (type: {type(item['input_amounts'])})\")\n",
    "    print(f\"Record {idx} - Output Amounts: {item['output_amounts']} (type: {type(item['output_amounts'])})\")\n",
    "\n",
    "# Close the database connection\n"
   ]
  },
  {
   "cell_type": "code",
   "execution_count": 26,
   "metadata": {},
   "outputs": [],
   "source": [
    "import json\n",
    "import sqlite3\n",
    "\n",
    "# Connect to the SQLite database\n",
    "conn = sqlite3.connect('iotaDB.db')\n",
    "c = conn.cursor()\n",
    "\n",
    "# Execute query to fetch serialized data\n",
    "c.execute(\"\"\"\n",
    "SELECT input_amounts_x \n",
    "FROM Transactions \n",
    "LIMIT 10\n",
    "\"\"\")\n",
    "rows = c.fetchall()\n",
    "\n",
    "# Deserialize the JSON string back into Python lists\n",
    "input_amounts = [json.loads(row[0]) if row[0] else None for row in rows]\n",
    "\n",
    "# Close the database connection\n",
    "conn.close()\n"
   ]
  },
  {
   "cell_type": "markdown",
   "metadata": {},
   "source": [
    "# Check and print the type of each element in the lists"
   ]
  },
  {
   "cell_type": "code",
   "execution_count": 27,
   "metadata": {},
   "outputs": [
    {
     "name": "stdout",
     "output_type": "stream",
     "text": [
      "Record 1 - Input Amounts Types:\n",
      "  Element 1: 500000000.0 (type: <class 'float'>)\n",
      "Record 2 - Input Amounts Types:\n",
      "  Element 1: 60000000.0 (type: <class 'float'>)\n",
      "  Element 2: 76000000.0 (type: <class 'float'>)\n",
      "Record 3 - Input Amounts Types:\n",
      "  Element 1: 200000000.0 (type: <class 'float'>)\n",
      "Record 4 - Input Amounts Types:\n",
      "  Element 1: 25000000.0 (type: <class 'float'>)\n",
      "Record 5 - Input Amounts Types:\n",
      "  Element 1: 494500000.0 (type: <class 'float'>)\n",
      "Record 6 - Input Amounts Types:\n",
      "  Element 1: 29891752444.0 (type: <class 'float'>)\n",
      "Record 7 - Input Amounts Types:\n",
      "  Element 1: 22994863356.0 (type: <class 'float'>)\n",
      "Record 8 - Input Amounts Types:\n",
      "  Element 1: 1000000.0 (type: <class 'float'>)\n",
      "Record 9 - Input Amounts Types:\n",
      "  Element 1: 4501456962.0 (type: <class 'float'>)\n",
      "Record 10 - Input Amounts Types:\n",
      "  Element 1: 0.0 (type: <class 'float'>)\n"
     ]
    }
   ],
   "source": [
    "# Check and print the type of each element in the lists\n",
    "for idx, amounts in enumerate(input_amounts, start=1):\n",
    "    if amounts:\n",
    "        print(f\"Record {idx} - Input Amounts Types:\")\n",
    "        for i, amount in enumerate(amounts):\n",
    "            print(f\"  Element {i+1}: {amount} (type: {type(amount)})\")\n",
    "    else:\n",
    "        print(f\"Record {idx} - No input amounts available.\")\n"
   ]
  }
 ],
 "metadata": {
  "kernelspec": {
   "display_name": "Python 3",
   "language": "python",
   "name": "python3"
  },
  "language_info": {
   "codemirror_mode": {
    "name": "ipython",
    "version": 3
   },
   "file_extension": ".py",
   "mimetype": "text/x-python",
   "name": "python",
   "nbconvert_exporter": "python",
   "pygments_lexer": "ipython3",
   "version": "3.12.3"
  }
 },
 "nbformat": 4,
 "nbformat_minor": 2
}
