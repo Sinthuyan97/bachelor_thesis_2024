{
 "cells": [
  {
   "cell_type": "code",
   "execution_count": 1,
   "metadata": {},
   "outputs": [
    {
     "name": "stdout",
     "output_type": "stream",
     "text": [
      "Gini Coefficient for Net Balances: 2.0417183619000294\n"
     ]
    }
   ],
   "source": [
    "import sqlite3\n",
    "import pandas as pd\n",
    "import numpy as np\n",
    "import json\n",
    "\n",
    "# Connect to the SQLite database\n",
    "conn = sqlite3.connect('iotaDB.db')\n",
    "cursor = conn.cursor()\n",
    "\n",
    "# Fetching data from the database\n",
    "query = \"\"\"\n",
    "SELECT input_addresses_x, input_amounts_x, output_addresses_y, output_amounts_y FROM Transactions\n",
    "\"\"\"\n",
    "cursor.execute(query)\n",
    "transactions = cursor.fetchall()\n",
    "\n",
    "# Close the database connection\n",
    "conn.close()\n",
    "\n",
    "# Normalize data and create a DataFrame for input and output separately\n",
    "inputs = []\n",
    "outputs = []\n",
    "\n",
    "for trans in transactions:\n",
    "    input_addresses = json.loads(trans[0])\n",
    "    input_amounts = json.loads(trans[1])\n",
    "    output_addresses = json.loads(trans[2])\n",
    "    output_amounts = json.loads(trans[3])\n",
    "    \n",
    "    for address, amount in zip(input_addresses, input_amounts):\n",
    "        inputs.append({'address': address, 'amount': amount})\n",
    "    \n",
    "    for address, amount in zip(output_addresses, output_amounts):\n",
    "        outputs.append({'address': address, 'amount': amount})\n",
    "\n",
    "df_inputs = pd.DataFrame(inputs)\n",
    "df_outputs = pd.DataFrame(outputs)\n",
    "\n",
    "# Aggregate the sums of amounts per address for inputs and outputs\n",
    "agg_inputs = df_inputs.groupby('address')['amount'].sum()\n",
    "agg_outputs = df_outputs.groupby('address')['amount'].sum()\n",
    "\n",
    "# Calculate net balances if needed (input - output)\n",
    "# Here, combining them and calculating the net effect per address\n",
    "all_addresses = pd.concat([agg_inputs, -agg_outputs]).groupby(level=0).sum()\n",
    "\n",
    "# Sort the data by amount and normalize\n",
    "sorted_balances = all_addresses.sort_values()\n",
    "cumulative_values = (sorted_balances / sorted_balances.sum()).cumsum()\n",
    "\n",
    "# Calculate the Gini coefficient\n",
    "cumulative_base = np.arange(1, len(cumulative_values) + 1) / len(cumulative_values)\n",
    "gini = (cumulative_base - cumulative_values).sum() / len(cumulative_values)\n",
    "gini_coefficient = 1 - 2 * gini\n",
    "\n",
    "print(\"Gini Coefficient for Net Balances:\", gini_coefficient)\n"
   ]
  }
 ],
 "metadata": {
  "kernelspec": {
   "display_name": "Python 3",
   "language": "python",
   "name": "python3"
  },
  "language_info": {
   "codemirror_mode": {
    "name": "ipython",
    "version": 3
   },
   "file_extension": ".py",
   "mimetype": "text/x-python",
   "name": "python",
   "nbconvert_exporter": "python",
   "pygments_lexer": "ipython3",
   "version": "3.12.3"
  }
 },
 "nbformat": 4,
 "nbformat_minor": 2
}
